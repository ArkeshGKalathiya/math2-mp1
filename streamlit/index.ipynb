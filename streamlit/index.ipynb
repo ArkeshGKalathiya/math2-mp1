{
 "cells": [
  {
   "cell_type": "code",
   "execution_count": 7,
   "metadata": {},
   "outputs": [
    {
     "ename": "FileNotFoundError",
     "evalue": "[Errno 2] No such file or directory: '/Users/arkeshkalathiya/Library/Python/3.9/lib/python/site-packages/senti_classifier/data/SentiWn.p'",
     "output_type": "error",
     "traceback": [
      "\u001b[0;31m---------------------------------------------------------------------------\u001b[0m",
      "\u001b[0;31mFileNotFoundError\u001b[0m                         Traceback (most recent call last)",
      "Cell \u001b[0;32mIn [7], line 2\u001b[0m\n\u001b[1;32m      1\u001b[0m \u001b[39mimport\u001b[39;00m \u001b[39mkeras\u001b[39;00m\n\u001b[0;32m----> 2\u001b[0m \u001b[39mfrom\u001b[39;00m \u001b[39msenti_classifier\u001b[39;00m \u001b[39mimport\u001b[39;00m senti_classifier \u001b[39mas\u001b[39;00m sc\n\u001b[1;32m      6\u001b[0m pos_score, neg_score \u001b[39m=\u001b[39m sc\u001b[39m.\u001b[39mpolarity_scores([\u001b[39m\"\u001b[39m\u001b[39mThis was very bad movie\u001b[39m\u001b[39m\"\u001b[39m])\n",
      "File \u001b[0;32m~/Library/Python/3.9/lib/python/site-packages/senti_classifier/senti_classifier.py:227\u001b[0m\n\u001b[1;32m    222\u001b[0m     \u001b[39mreturn\u001b[39;00m pos, neg\n\u001b[1;32m    225\u001b[0m \u001b[39m#==========  Skipping pickle for a while  ==========*/\u001b[39;00m\n\u001b[0;32m--> 227\u001b[0m senti_pickle \u001b[39m=\u001b[39m resource_stream(\u001b[39m'\u001b[39;49m\u001b[39msenti_classifier\u001b[39;49m\u001b[39m'\u001b[39;49m, \u001b[39m'\u001b[39;49m\u001b[39mdata/SentiWn.p\u001b[39;49m\u001b[39m'\u001b[39;49m)\n\u001b[1;32m    228\u001b[0m bag_of_words_pickle \u001b[39m=\u001b[39m resource_stream(\u001b[39m'\u001b[39m\u001b[39msenti_classifier\u001b[39m\u001b[39m'\u001b[39m, \u001b[39m'\u001b[39m\u001b[39mdata/bag_of_words.p\u001b[39m\u001b[39m'\u001b[39m)\n\u001b[1;32m    229\u001b[0m synsets_scores \u001b[39m=\u001b[39m pickle\u001b[39m.\u001b[39mload(senti_pickle)\n",
      "File \u001b[0;32m/Applications/Xcode.app/Contents/Developer/Library/Frameworks/Python3.framework/Versions/3.9/lib/python3.9/site-packages/pkg_resources/__init__.py:1136\u001b[0m, in \u001b[0;36mResourceManager.resource_stream\u001b[0;34m(self, package_or_requirement, resource_name)\u001b[0m\n\u001b[1;32m   1134\u001b[0m \u001b[39mdef\u001b[39;00m \u001b[39mresource_stream\u001b[39m(\u001b[39mself\u001b[39m, package_or_requirement, resource_name):\n\u001b[1;32m   1135\u001b[0m     \u001b[39m\"\"\"Return a readable file-like object for specified resource\"\"\"\u001b[39;00m\n\u001b[0;32m-> 1136\u001b[0m     \u001b[39mreturn\u001b[39;00m get_provider(package_or_requirement)\u001b[39m.\u001b[39;49mget_resource_stream(\n\u001b[1;32m   1137\u001b[0m         \u001b[39mself\u001b[39;49m, resource_name\n\u001b[1;32m   1138\u001b[0m     )\n",
      "File \u001b[0;32m/Applications/Xcode.app/Contents/Developer/Library/Frameworks/Python3.framework/Versions/3.9/lib/python3.9/site-packages/pkg_resources/__init__.py:1608\u001b[0m, in \u001b[0;36mDefaultProvider.get_resource_stream\u001b[0;34m(self, manager, resource_name)\u001b[0m\n\u001b[1;32m   1607\u001b[0m \u001b[39mdef\u001b[39;00m \u001b[39mget_resource_stream\u001b[39m(\u001b[39mself\u001b[39m, manager, resource_name):\n\u001b[0;32m-> 1608\u001b[0m     \u001b[39mreturn\u001b[39;00m \u001b[39mopen\u001b[39;49m(\u001b[39mself\u001b[39;49m\u001b[39m.\u001b[39;49m_fn(\u001b[39mself\u001b[39;49m\u001b[39m.\u001b[39;49mmodule_path, resource_name), \u001b[39m'\u001b[39;49m\u001b[39mrb\u001b[39;49m\u001b[39m'\u001b[39;49m)\n",
      "\u001b[0;31mFileNotFoundError\u001b[0m: [Errno 2] No such file or directory: '/Users/arkeshkalathiya/Library/Python/3.9/lib/python/site-packages/senti_classifier/data/SentiWn.p'"
     ]
    }
   ],
   "source": [
    "\n",
    "\n",
    "\n"
   ]
  },
  {
   "cell_type": "code",
   "execution_count": null,
   "metadata": {},
   "outputs": [],
   "source": []
  }
 ],
 "metadata": {
  "kernelspec": {
   "display_name": "Python 3",
   "language": "python",
   "name": "python3"
  },
  "language_info": {
   "codemirror_mode": {
    "name": "ipython",
    "version": 3
   },
   "file_extension": ".py",
   "mimetype": "text/x-python",
   "name": "python",
   "nbconvert_exporter": "python",
   "pygments_lexer": "ipython3",
   "version": "3.9.6"
  },
  "orig_nbformat": 4,
  "vscode": {
   "interpreter": {
    "hash": "31f2aee4e71d21fbe5cf8b01ff0e069b9275f58929596ceb00d14d90e3e16cd6"
   }
  }
 },
 "nbformat": 4,
 "nbformat_minor": 2
}
